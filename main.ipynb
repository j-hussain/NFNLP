{
 "cells": [
  {
   "cell_type": "markdown",
   "metadata": {},
   "source": [
    "### Basic Sentiment Analysis"
   ]
  },
  {
   "cell_type": "markdown",
   "metadata": {},
   "source": [
    "Import the relevant modules:"
   ]
  },
  {
   "cell_type": "code",
   "execution_count": 3,
   "metadata": {},
   "outputs": [],
   "source": [
    "from textblob import TextBlob\n",
    "from wordcloud import WordCloud\n",
    "# from tqdm import tqdm as prog_bar\n",
    "import pandas as pd\n",
    "import numpy as np\n",
    "import tweepy\n",
    "import re\n",
    "import matplotlib.pyplot as plt\n",
    "from tokens import api_keys\n",
    "plt.style.use('fivethirtyeight')"
   ]
  },
  {
   "cell_type": "code",
   "execution_count": 4,
   "metadata": {},
   "outputs": [],
   "source": [
    "# twitter authentication code, to connect to the API\n",
    "authentication = tweepy.OAuthHandler(api_keys[\"consumer_key\"], api_keys[\"consumer_secret\"])\n",
    "# set tokens\n",
    "authentication.set_access_token(api_keys[\"access_token\"], api_keys[\"access_secret\"])\n",
    "# create API object\n",
    "api = tweepy.API(authentication, wait_on_rate_limit=True)"
   ]
  },
  {
   "cell_type": "markdown",
   "metadata": {},
   "source": [
    "Extract data"
   ]
  },
  {
   "cell_type": "code",
   "execution_count": 5,
   "metadata": {},
   "outputs": [
    {
     "name": "stdout",
     "output_type": "stream",
     "text": [
      "Showing last 10 tweets\n",
      "1: 12 o’clock, first customer in. Love it. https://t.co/pBYm9rtejA\n",
      "\n",
      "2: RT @Telegraph: Number of high-profile organisations are forced to distance themselves from Black Lives Matter as they say organisation has…\n",
      "\n",
      "3: Now many others have woken up, this feels like a good time to share this video again. https://t.co/OV544J0ZGF\n",
      "\n",
      "4: A welcome outbreak of common sense from the Premier League. \n",
      "\n",
      "https://t.co/Y1Q9ObtVJv\n",
      "\n",
      "5: Large scale infrastructure spending was first proposed by The Brexit Party. Not only does Boris now use our policies he’s even using our colours too! https://t.co/SZRLUj5aQs\n",
      "\n",
      "6: Is Starmer now more Conservative than Boris, who does not have the moral courage to condemn the anti-police marxists?\n",
      "\n",
      "7: Heartily agree with @Keir_Starmer’s condemnation of the Black Lives Matter organisation. https://t.co/LSwoIhoWk1\n",
      "\n",
      "8: RT @talkRADIO: Brexit Party leader Nigel Farage will be joining Julia from 8am. Watch live ► https://t.co/GUMvcJzWzS\n",
      "\n",
      "@JuliaHB1 | @Nigel_Fa…\n",
      "\n",
      "9: This is a really positive step forwards, the best news from the government for a while. https://t.co/uf2dhAUuKW\n",
      "\n",
      "10: The Corporates now want to dictate politics. The battle against globalism is real. https://t.co/bZjVVPPGgP\n",
      "\n"
     ]
    }
   ],
   "source": [
    "tweets = api.user_timeline(screen_name=\"Nigel_Farage\", count=15700, lang=\"en\", tweet_mode=\"extended\")\n",
    "\n",
    "# test to see if the API is working\n",
    "\n",
    "print(\"Showing last 10 tweets\")\n",
    "i = 1\n",
    "for each_tweet in tweets[:10]:\n",
    "    print(f\"{str(i)}: {each_tweet.full_text}\\n\")\n",
    "    i += 1"
   ]
  },
  {
   "cell_type": "code",
   "execution_count": null,
   "metadata": {},
   "outputs": [],
   "source": [
    "data_frame = pd.DataFrame([each_tweet.full_text for each_tweet in tweets], columns=\"Tweets\")"
   ]
  }
 ],
 "metadata": {
  "kernelspec": {
   "display_name": "Python 3",
   "language": "python",
   "name": "python3"
  },
  "language_info": {
   "codemirror_mode": {
    "name": "ipython",
    "version": 3
   },
   "file_extension": ".py",
   "mimetype": "text/x-python",
   "name": "python",
   "nbconvert_exporter": "python",
   "pygments_lexer": "ipython3",
   "version": "3.7.6"
  }
 },
 "nbformat": 4,
 "nbformat_minor": 4
}
